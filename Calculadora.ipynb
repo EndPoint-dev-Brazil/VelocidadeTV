{
  "nbformat": 4,
  "nbformat_minor": 0,
  "metadata": {
    "colab": {
      "name": "Untitled1.ipynb",
      "provenance": [],
      "collapsed_sections": [],
      "authorship_tag": "ABX9TyP8DifQmVNLIhhgIXjkCcia",
      "include_colab_link": true
    },
    "kernelspec": {
      "name": "python3",
      "display_name": "Python 3"
    },
    "language_info": {
      "name": "python"
    }
  },
  "cells": [
    {
      "cell_type": "markdown",
      "metadata": {
        "id": "view-in-github",
        "colab_type": "text"
      },
      "source": [
        "<a href=\"https://colab.research.google.com/github/VelocidadeTV/VelocidadeTV/blob/main/Calculadora.ipynb\" target=\"_parent\"><img src=\"https://colab.research.google.com/assets/colab-badge.svg\" alt=\"Open In Colab\"/></a>"
      ]
    },
    {
      "cell_type": "code",
      "execution_count": 3,
      "metadata": {
        "colab": {
          "base_uri": "https://localhost:8080/"
        },
        "id": "-2ljypJ2VGE8",
        "outputId": "103f2f62-1a1d-4b01-b889-96c2c21d4d04"
      },
      "outputs": [
        {
          "output_type": "stream",
          "name": "stdout",
          "text": [
            "digite um número para ver a sua tabuada1\n",
            "1 x 1 = 1\n",
            "1 x 2 = 2\n",
            "1 x 3 = 3\n",
            "1 x 4 = 4\n",
            "1 x 5 = 5\n",
            "1 x 6 = 6\n",
            "1 x 7 = 7\n",
            "1 x 8 = 8\n",
            "1 x 9 = 9\n",
            "1 x 10 = 10\n"
          ]
        }
      ],
      "source": [
        "num = int(input ('digite um número para ver a sua tabuada'))\n",
        "print('{} x {} = {}'.format (num, 1, num*1))\n",
        "print('{} x {} = {}'.format (num, 2, num*2))\n",
        "print('{} x {} = {}'.format (num, 3, num*3))\n",
        "print('{} x {} = {}'.format (num, 4, num*4))\n",
        "print('{} x {} = {}'.format (num, 5, num*5))\n",
        "print('{} x {} = {}'.format (num, 6, num*6))\n",
        "print('{} x {} = {}'.format (num, 7, num*7))\n",
        "print('{} x {} = {}'.format (num, 8, num*8))\n",
        "print('{} x {} = {}'.format (num, 9, num*9))\n",
        "print('{} x {} = {}'.format (num, 10, num*10))"
      ]
    }
  ]
}